{
 "cells": [
  {
   "cell_type": "markdown",
   "id": "87a57b23-24ff-4c63-95df-6c7729ab0ab0",
   "metadata": {},
   "source": [
    "# Lambda Functions"
   ]
  },
  {
   "cell_type": "markdown",
   "id": "0946dae3-9fb2-4021-a01a-179c1d6961c4",
   "metadata": {},
   "source": [
    "### 1. Lambda Add & Multiply\n",
    "\n",
    "Write a Python program to create a lambda function that adds 15 to a given number passed in as an argument, also create a lambda function that multiplies argument x with argument y and prints the result.\n",
    "\n",
    "Sample Output:\n",
    "25\n",
    "48"
   ]
  },
  {
   "cell_type": "code",
   "execution_count": 1,
   "id": "1bd534ba-123c-4e25-b5b9-bd69268c1863",
   "metadata": {},
   "outputs": [],
   "source": [
    "add=lambda x:x+15"
   ]
  },
  {
   "cell_type": "code",
   "execution_count": 2,
   "id": "239e152f-3aaa-4721-89a5-c71a2ba6b1a6",
   "metadata": {},
   "outputs": [
    {
     "data": {
      "text/plain": [
       "25"
      ]
     },
     "execution_count": 2,
     "metadata": {},
     "output_type": "execute_result"
    }
   ],
   "source": [
    "add(10)"
   ]
  },
  {
   "cell_type": "code",
   "execution_count": 3,
   "id": "45980cf3-d2f1-402a-b349-5577a62dd49e",
   "metadata": {},
   "outputs": [
    {
     "data": {
      "text/plain": [
       "48"
      ]
     },
     "execution_count": 3,
     "metadata": {},
     "output_type": "execute_result"
    }
   ],
   "source": [
    "multiply=lambda x,y:x*y\n",
    "multiply(4,12)"
   ]
  },
  {
   "cell_type": "markdown",
   "id": "7a2dae4f-2945-44e7-842c-9bed126575bd",
   "metadata": {},
   "source": [
    "### 2.Even or Odd\n",
    "Use a lambda function to check whether a given number is even."
   ]
  },
  {
   "cell_type": "code",
   "execution_count": 7,
   "id": "380316df-1eb4-4898-b4a5-c57feb353dc8",
   "metadata": {},
   "outputs": [
    {
     "data": {
      "text/plain": [
       "'odd'"
      ]
     },
     "execution_count": 7,
     "metadata": {},
     "output_type": "execute_result"
    }
   ],
   "source": [
    "even_odd=lambda x:\"even\" if x%2==0 else \"odd\"\n",
    "even_odd(5)"
   ]
  },
  {
   "cell_type": "code",
   "execution_count": 8,
   "id": "33b2ffc6-baa6-43c5-b4eb-f990b844a3f1",
   "metadata": {},
   "outputs": [
    {
     "data": {
      "text/plain": [
       "'even'"
      ]
     },
     "execution_count": 8,
     "metadata": {},
     "output_type": "execute_result"
    }
   ],
   "source": [
    "even_odd(6)"
   ]
  },
  {
   "cell_type": "code",
   "execution_count": null,
   "id": "056bda1d-afe6-440b-83f7-fa7f1bea2093",
   "metadata": {},
   "outputs": [],
   "source": []
  }
 ],
 "metadata": {
  "kernelspec": {
   "display_name": "Python 3 (ipykernel)",
   "language": "python",
   "name": "python3"
  },
  "language_info": {
   "codemirror_mode": {
    "name": "ipython",
    "version": 3
   },
   "file_extension": ".py",
   "mimetype": "text/x-python",
   "name": "python",
   "nbconvert_exporter": "python",
   "pygments_lexer": "ipython3",
   "version": "3.11.7"
  }
 },
 "nbformat": 4,
 "nbformat_minor": 5
}
