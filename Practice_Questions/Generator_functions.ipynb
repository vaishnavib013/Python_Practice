{
 "cells": [
  {
   "cell_type": "markdown",
   "id": "b590417f-b01f-4282-beab-2f024563d1f0",
   "metadata": {},
   "source": [
    "# Generator Functions"
   ]
  },
  {
   "cell_type": "markdown",
   "id": "b3a2ff35-1307-42b2-99b9-18bf45e1dfc0",
   "metadata": {},
   "source": [
    "### Even Number Generator\n",
    "Write a generator function that yields even numbers up to a given limit."
   ]
  },
  {
   "cell_type": "code",
   "execution_count": 1,
   "id": "234d8686-2aed-4015-a896-e07392b18bca",
   "metadata": {},
   "outputs": [
    {
     "name": "stdout",
     "output_type": "stream",
     "text": [
      "<generator object even_no at 0x00000215F0162260>\n"
     ]
    }
   ],
   "source": [
    "def even_no(n):\n",
    "    i=1\n",
    "    while i<n:\n",
    "        if(i%2==0):\n",
    "            yield i\n",
    "        i=i+1\n",
    "even=even_no(10)\n",
    "print(even)"
   ]
  },
  {
   "cell_type": "code",
   "execution_count": 2,
   "id": "1c640191-66f2-411b-aa54-b69e9d624292",
   "metadata": {},
   "outputs": [
    {
     "name": "stdout",
     "output_type": "stream",
     "text": [
      "2\n",
      "4\n",
      "6\n",
      "8\n"
     ]
    }
   ],
   "source": [
    "for i in even:\n",
    "    print(i)"
   ]
  },
  {
   "cell_type": "code",
   "execution_count": 7,
   "id": "d4d52168-1e87-4239-ac0a-bcacc8c4da26",
   "metadata": {},
   "outputs": [
    {
     "name": "stdout",
     "output_type": "stream",
     "text": [
      "2\n",
      "4\n",
      "6\n",
      "8\n",
      "10\n"
     ]
    }
   ],
   "source": [
    "def even_number():\n",
    "    i=1\n",
    "    n=25\n",
    "    while i<n:\n",
    "        if (i%2==0):\n",
    "            yield i\n",
    "        i+=1\n",
    "even=even_number()\n",
    "for i in range(5):\n",
    "    print(next(even))"
   ]
  },
  {
   "cell_type": "markdown",
   "id": "e400b54c-0f66-4860-9d26-eb2d1c08b0ff",
   "metadata": {},
   "source": [
    "### Fibonacci Sequence Generator\n",
    "Create a generator that yields the Fibonacci sequence up to n numbers."
   ]
  },
  {
   "cell_type": "code",
   "execution_count": 11,
   "id": "c4942b89-af31-4698-b025-4b96f7b847b3",
   "metadata": {},
   "outputs": [
    {
     "name": "stdout",
     "output_type": "stream",
     "text": [
      "0\n",
      "1\n",
      "1\n",
      "2\n",
      "3\n",
      "5\n",
      "8\n",
      "13\n",
      "21\n",
      "34\n"
     ]
    }
   ],
   "source": [
    "def fib():\n",
    "    a,b=0,1\n",
    "    while True:\n",
    "        yield a\n",
    "        a,b=b,a+b\n",
    "fibb=fib()\n",
    "for i in range(10):\n",
    "    print(next(fibb))"
   ]
  },
  {
   "cell_type": "markdown",
   "id": "8d7686ac-00d6-4854-87ff-1ffee80a30a7",
   "metadata": {},
   "source": [
    "### Countdown Generator\n",
    "Create a generator that counts down from a given number to zero.\n",
    "\n"
   ]
  },
  {
   "cell_type": "code",
   "execution_count": 12,
   "id": "6b41e648-8951-4a5b-8423-553b36182e94",
   "metadata": {},
   "outputs": [
    {
     "name": "stdout",
     "output_type": "stream",
     "text": [
      "0\n",
      "1\n",
      "2\n",
      "3\n",
      "4\n",
      "5\n",
      "6\n",
      "7\n",
      "8\n",
      "9\n"
     ]
    }
   ],
   "source": [
    "def count():\n",
    "    count=0\n",
    "    while True:\n",
    "        yield count\n",
    "        count+=1\n",
    "\n",
    "c=count()\n",
    "for i in range(10):\n",
    "    print(next(c))"
   ]
  },
  {
   "cell_type": "code",
   "execution_count": 13,
   "id": "5a7aadad-4e57-4e91-ac2d-c9fcd8e80461",
   "metadata": {},
   "outputs": [
    {
     "name": "stdout",
     "output_type": "stream",
     "text": [
      "1 3 5 7 9 11 13 15 17 19 "
     ]
    }
   ],
   "source": [
    "def infinite_odd_generator():\n",
    "    i = 1\n",
    "    while True:\n",
    "        yield i\n",
    "        i += 2\n",
    "\n",
    "# Example usage: print first 10 odd numbers\n",
    "gen = infinite_odd_generator()\n",
    "for _ in range(10):\n",
    "    print(next(gen), end=\" \")\n"
   ]
  },
  {
   "cell_type": "code",
   "execution_count": 14,
   "id": "f9bba09f-0d68-4602-a56d-325b35fbefe9",
   "metadata": {},
   "outputs": [
    {
     "name": "stdout",
     "output_type": "stream",
     "text": [
      "i v a n h s i a V "
     ]
    }
   ],
   "source": [
    "def reverse_string_gen(s):\n",
    "    for i in range(len(s) - 1, -1, -1):\n",
    "        yield s[i]\n",
    "\n",
    "# Example usage\n",
    "for ch in reverse_string_gen(\"Vaishnavi\"):\n",
    "    print(ch, end=\" \")\n"
   ]
  },
  {
   "cell_type": "code",
   "execution_count": null,
   "id": "29bd571a-a0b3-401e-a004-a6ae531f4af2",
   "metadata": {},
   "outputs": [],
   "source": []
  }
 ],
 "metadata": {
  "kernelspec": {
   "display_name": "Python 3 (ipykernel)",
   "language": "python",
   "name": "python3"
  },
  "language_info": {
   "codemirror_mode": {
    "name": "ipython",
    "version": 3
   },
   "file_extension": ".py",
   "mimetype": "text/x-python",
   "name": "python",
   "nbconvert_exporter": "python",
   "pygments_lexer": "ipython3",
   "version": "3.11.7"
  }
 },
 "nbformat": 4,
 "nbformat_minor": 5
}
